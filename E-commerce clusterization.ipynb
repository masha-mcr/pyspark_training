{
 "cells": [
  {
   "cell_type": "code",
   "execution_count": 1,
   "id": "f898c340",
   "metadata": {},
   "outputs": [],
   "source": [
    "import pyspark.sql\n",
    "from pyspark.sql.functions import *\n",
    "#from pyspark.sql.types import *"
   ]
  },
  {
   "cell_type": "code",
   "execution_count": 2,
   "id": "8c5eb214",
   "metadata": {},
   "outputs": [],
   "source": [
    "spark = pyspark.sql.SparkSession.builder.appName(\"Understanding Pyspark\").config(\"spark.memory.offHeap.enabled\",\"true\").config(\"spark.memory.offHeap.size\",\"10g\").getOrCreate()"
   ]
  },
  {
   "cell_type": "code",
   "execution_count": 162,
   "id": "abb64dfe",
   "metadata": {},
   "outputs": [],
   "source": [
    "df = spark.read.csv('e-commerce_data.csv',header=True,escape=\"\\\"\")"
   ]
  },
  {
   "cell_type": "code",
   "execution_count": 4,
   "id": "e8f0e330",
   "metadata": {},
   "outputs": [
    {
     "name": "stdout",
     "output_type": "stream",
     "text": [
      "+---------+---------+-----------------------------------+--------+--------------+---------+----------+--------------+\n",
      "|InvoiceNo|StockCode|Description                        |Quantity|InvoiceDate   |UnitPrice|CustomerID|Country       |\n",
      "+---------+---------+-----------------------------------+--------+--------------+---------+----------+--------------+\n",
      "|536365   |85123A   |WHITE HANGING HEART T-LIGHT HOLDER |6       |12/1/2010 8:26|2.55     |17850     |United Kingdom|\n",
      "|536365   |71053    |WHITE METAL LANTERN                |6       |12/1/2010 8:26|3.39     |17850     |United Kingdom|\n",
      "|536365   |84406B   |CREAM CUPID HEARTS COAT HANGER     |8       |12/1/2010 8:26|2.75     |17850     |United Kingdom|\n",
      "|536365   |84029G   |KNITTED UNION FLAG HOT WATER BOTTLE|6       |12/1/2010 8:26|3.39     |17850     |United Kingdom|\n",
      "|536365   |84029E   |RED WOOLLY HOTTIE WHITE HEART.     |6       |12/1/2010 8:26|3.39     |17850     |United Kingdom|\n",
      "+---------+---------+-----------------------------------+--------+--------------+---------+----------+--------------+\n",
      "only showing top 5 rows\n",
      "\n"
     ]
    }
   ],
   "source": [
    "df.show(5,0)"
   ]
  },
  {
   "cell_type": "code",
   "execution_count": 5,
   "id": "fba5768f",
   "metadata": {},
   "outputs": [
    {
     "data": {
      "text/plain": [
       "541909"
      ]
     },
     "execution_count": 5,
     "metadata": {},
     "output_type": "execute_result"
    }
   ],
   "source": [
    "df.count()"
   ]
  },
  {
   "cell_type": "code",
   "execution_count": 6,
   "id": "481936b0",
   "metadata": {},
   "outputs": [
    {
     "data": {
      "text/plain": [
       "[('InvoiceNo', 'string'),\n",
       " ('StockCode', 'string'),\n",
       " ('Description', 'string'),\n",
       " ('Quantity', 'string'),\n",
       " ('InvoiceDate', 'string'),\n",
       " ('UnitPrice', 'string'),\n",
       " ('CustomerID', 'string'),\n",
       " ('Country', 'string')]"
      ]
     },
     "execution_count": 6,
     "metadata": {},
     "output_type": "execute_result"
    }
   ],
   "source": [
    "df.dtypes"
   ]
  },
  {
   "cell_type": "code",
   "execution_count": 7,
   "id": "f8fa6b8e",
   "metadata": {},
   "outputs": [
    {
     "data": {
      "text/plain": [
       "4373"
      ]
     },
     "execution_count": 7,
     "metadata": {},
     "output_type": "execute_result"
    }
   ],
   "source": [
    "df.select('CustomerID').distinct().count()"
   ]
  },
  {
   "cell_type": "code",
   "execution_count": 8,
   "id": "c66e1106",
   "metadata": {},
   "outputs": [
    {
     "name": "stdout",
     "output_type": "stream",
     "text": [
      "+---------------+-------------+\n",
      "|        Country|country_count|\n",
      "+---------------+-------------+\n",
      "| United Kingdom|         3950|\n",
      "|        Germany|           95|\n",
      "|         France|           87|\n",
      "|          Spain|           31|\n",
      "|        Belgium|           25|\n",
      "|    Switzerland|           21|\n",
      "|       Portugal|           19|\n",
      "|          Italy|           15|\n",
      "|        Finland|           12|\n",
      "|        Austria|           11|\n",
      "|         Norway|           10|\n",
      "|Channel Islands|            9|\n",
      "|      Australia|            9|\n",
      "|    Netherlands|            9|\n",
      "|        Denmark|            9|\n",
      "|         Cyprus|            8|\n",
      "|          Japan|            8|\n",
      "|         Sweden|            8|\n",
      "|         Poland|            6|\n",
      "|         Greece|            4|\n",
      "+---------------+-------------+\n",
      "only showing top 20 rows\n",
      "\n"
     ]
    }
   ],
   "source": [
    "df.groupBy('Country').agg(countDistinct('CustomerID').alias('country_count')).orderBy(col('country_count').desc()).show()"
   ]
  },
  {
   "cell_type": "code",
   "execution_count": 177,
   "id": "2f86312c",
   "metadata": {},
   "outputs": [],
   "source": [
    "spark.sql(\"set spark.sql.legacy.timeParserPolicy=LEGACY\")\n",
    "df = df.withColumn('date',to_timestamp('InvoiceDate', 'mm/dd/yy HH:mm'))"
   ]
  },
  {
   "cell_type": "code",
   "execution_count": 178,
   "id": "f1e8be78",
   "metadata": {},
   "outputs": [
    {
     "name": "stdout",
     "output_type": "stream",
     "text": [
      "+---------+---------+--------------------+--------+--------------+---------+----------+--------------+-------------------+\n",
      "|InvoiceNo|StockCode|         Description|Quantity|   InvoiceDate|UnitPrice|CustomerID|       Country|               date|\n",
      "+---------+---------+--------------------+--------+--------------+---------+----------+--------------+-------------------+\n",
      "|   536365|   85123A|WHITE HANGING HEA...|       6|12/1/2010 8:26|     2.55|     17850|United Kingdom|2010-01-01 08:26:00|\n",
      "|   536365|    71053| WHITE METAL LANTERN|       6|12/1/2010 8:26|     3.39|     17850|United Kingdom|2010-01-01 08:26:00|\n",
      "|   536365|   84406B|CREAM CUPID HEART...|       8|12/1/2010 8:26|     2.75|     17850|United Kingdom|2010-01-01 08:26:00|\n",
      "|   536365|   84029G|KNITTED UNION FLA...|       6|12/1/2010 8:26|     3.39|     17850|United Kingdom|2010-01-01 08:26:00|\n",
      "|   536365|   84029E|RED WOOLLY HOTTIE...|       6|12/1/2010 8:26|     3.39|     17850|United Kingdom|2010-01-01 08:26:00|\n",
      "|   536365|    22752|SET 7 BABUSHKA NE...|       2|12/1/2010 8:26|     7.65|     17850|United Kingdom|2010-01-01 08:26:00|\n",
      "|   536365|    21730|GLASS STAR FROSTE...|       6|12/1/2010 8:26|     4.25|     17850|United Kingdom|2010-01-01 08:26:00|\n",
      "|   536366|    22633|HAND WARMER UNION...|       6|12/1/2010 8:28|     1.85|     17850|United Kingdom|2010-01-01 08:28:00|\n",
      "|   536366|    22632|HAND WARMER RED P...|       6|12/1/2010 8:28|     1.85|     17850|United Kingdom|2010-01-01 08:28:00|\n",
      "|   536367|    84879|ASSORTED COLOUR B...|      32|12/1/2010 8:34|     1.69|     13047|United Kingdom|2010-01-01 08:34:00|\n",
      "|   536367|    22745|POPPY'S PLAYHOUSE...|       6|12/1/2010 8:34|      2.1|     13047|United Kingdom|2010-01-01 08:34:00|\n",
      "|   536367|    22748|POPPY'S PLAYHOUSE...|       6|12/1/2010 8:34|      2.1|     13047|United Kingdom|2010-01-01 08:34:00|\n",
      "|   536367|    22749|FELTCRAFT PRINCES...|       8|12/1/2010 8:34|     3.75|     13047|United Kingdom|2010-01-01 08:34:00|\n",
      "|   536367|    22310|IVORY KNITTED MUG...|       6|12/1/2010 8:34|     1.65|     13047|United Kingdom|2010-01-01 08:34:00|\n",
      "|   536367|    84969|BOX OF 6 ASSORTED...|       6|12/1/2010 8:34|     4.25|     13047|United Kingdom|2010-01-01 08:34:00|\n",
      "|   536367|    22623|BOX OF VINTAGE JI...|       3|12/1/2010 8:34|     4.95|     13047|United Kingdom|2010-01-01 08:34:00|\n",
      "|   536367|    22622|BOX OF VINTAGE AL...|       2|12/1/2010 8:34|     9.95|     13047|United Kingdom|2010-01-01 08:34:00|\n",
      "|   536367|    21754|HOME BUILDING BLO...|       3|12/1/2010 8:34|     5.95|     13047|United Kingdom|2010-01-01 08:34:00|\n",
      "|   536367|    21755|LOVE BUILDING BLO...|       3|12/1/2010 8:34|     5.95|     13047|United Kingdom|2010-01-01 08:34:00|\n",
      "|   536367|    21777|RECIPE BOX WITH M...|       4|12/1/2010 8:34|     7.95|     13047|United Kingdom|2010-01-01 08:34:00|\n",
      "+---------+---------+--------------------+--------+--------------+---------+----------+--------------+-------------------+\n",
      "only showing top 20 rows\n",
      "\n"
     ]
    }
   ],
   "source": [
    "df.show()"
   ]
  },
  {
   "cell_type": "code",
   "execution_count": 192,
   "id": "8aacded1",
   "metadata": {},
   "outputs": [
    {
     "data": {
      "text/plain": [
       "0"
      ]
     },
     "execution_count": 192,
     "metadata": {},
     "output_type": "execute_result"
    }
   ],
   "source": [
    "df.filter(col('date').isNull()).count() # data conversion was successful"
   ]
  },
  {
   "cell_type": "code",
   "execution_count": 191,
   "id": "7161b4de",
   "metadata": {},
   "outputs": [
    {
     "name": "stdout",
     "output_type": "stream",
     "text": [
      "+-------------------+\n",
      "|          max(date)|\n",
      "+-------------------+\n",
      "|2011-01-31 19:55:00|\n",
      "+-------------------+\n",
      "\n",
      "+-------------------+\n",
      "|          min(date)|\n",
      "+-------------------+\n",
      "|2010-01-01 08:26:00|\n",
      "+-------------------+\n",
      "\n"
     ]
    }
   ],
   "source": [
    "df.select(max('date')).show()\n",
    "df.select(min('date')).show()"
   ]
  },
  {
   "cell_type": "markdown",
   "id": "100dbf05",
   "metadata": {},
   "source": [
    "\n",
    "    Recency: How recently has each customer made a purchase?\n",
    "    Frequency: How often have they bought something?\n",
    "    Monetary Value: How much money do they spend on average when making purchases?\n"
   ]
  },
  {
   "cell_type": "code",
   "execution_count": 166,
   "id": "c3f50bf1",
   "metadata": {},
   "outputs": [
    {
     "name": "stdout",
     "output_type": "stream",
     "text": [
      "+----------+---------+\n",
      "|CustomerId|frequency|\n",
      "+----------+---------+\n",
      "|     16250|       24|\n",
      "|     15574|      168|\n",
      "|     15555|      925|\n",
      "|     15271|      275|\n",
      "|     17714|       10|\n",
      "|     17757|      742|\n",
      "|     17551|       43|\n",
      "|     13187|       37|\n",
      "|     16549|      981|\n",
      "|     12637|      394|\n",
      "|     15052|       30|\n",
      "|     14525|      298|\n",
      "|     18283|      756|\n",
      "|     13107|       60|\n",
      "|     16303|      167|\n",
      "|     13174|      314|\n",
      "|     13027|       26|\n",
      "|     12957|      244|\n",
      "|     17128|       14|\n",
      "|     14439|       32|\n",
      "+----------+---------+\n",
      "only showing top 20 rows\n",
      "\n"
     ]
    }
   ],
   "source": [
    "df_freq = df.groupBy('CustomerId').agg(count('*').alias('frequency'))\n",
    "df_freq.show()"
   ]
  },
  {
   "cell_type": "code",
   "execution_count": 181,
   "id": "07b9f2dc",
   "metadata": {},
   "outputs": [
    {
     "name": "stdout",
     "output_type": "stream",
     "text": [
      "+----------+--------------------+\n",
      "|CustomerId|most_recent_purchase|\n",
      "+----------+--------------------+\n",
      "|     16250| 2011-01-23 15:07:00|\n",
      "|     15574| 2011-01-15 12:01:00|\n",
      "|     15555| 2011-01-28 12:16:00|\n",
      "|     15271| 2011-01-30 08:17:00|\n",
      "|     17714| 2011-01-23 10:32:00|\n",
      "|     17757| 2011-01-30 16:28:00|\n",
      "|     17551| 2010-01-15 14:12:00|\n",
      "|     13187| 2011-01-06 18:57:00|\n",
      "|     16549| 2011-01-29 15:06:00|\n",
      "|     12637| 2011-01-27 09:40:00|\n",
      "|     15052| 2011-01-24 15:52:00|\n",
      "|     14525| 2011-01-31 18:49:00|\n",
      "|     18283| 2011-01-30 12:59:00|\n",
      "|     13107| 2011-01-26 14:52:00|\n",
      "|     16303| 2011-01-31 13:41:00|\n",
      "|     13174| 2011-01-27 15:36:00|\n",
      "|     13027| 2011-01-20 09:48:00|\n",
      "|     12957| 2011-01-30 09:53:00|\n",
      "|     17128| 2011-01-09 12:02:00|\n",
      "|     14439| 2011-01-24 11:39:00|\n",
      "+----------+--------------------+\n",
      "only showing top 20 rows\n",
      "\n"
     ]
    }
   ],
   "source": [
    "df_recency = df.groupBy('CustomerId').agg(max('date').alias('most_recent_purchase'))\n",
    "df_recency.show()"
   ]
  },
  {
   "cell_type": "code",
   "execution_count": 188,
   "id": "85939b86",
   "metadata": {},
   "outputs": [
    {
     "name": "stdout",
     "output_type": "stream",
     "text": [
      "+----------+--------------------+-------------------+-------------+\n",
      "|CustomerId|most_recent_purchase|          from_date|recency_score|\n",
      "+----------+--------------------+-------------------+-------------+\n",
      "|     16250| 2011-01-23 15:07:00|2010-01-01 08:26:00|     33460860|\n",
      "|     15574| 2011-01-15 12:01:00|2010-01-01 08:26:00|     32758500|\n",
      "|     15555| 2011-01-28 12:16:00|2010-01-01 08:26:00|     33882600|\n",
      "|     15271| 2011-01-30 08:17:00|2010-01-01 08:26:00|     34041060|\n",
      "|     17714| 2011-01-23 10:32:00|2010-01-01 08:26:00|     33444360|\n",
      "|     17757| 2011-01-30 16:28:00|2010-01-01 08:26:00|     34070520|\n",
      "|     17551| 2010-01-15 14:12:00|2010-01-01 08:26:00|      1230360|\n",
      "|     13187| 2011-01-06 18:57:00|2010-01-01 08:26:00|     32005860|\n",
      "|     16549| 2011-01-29 15:06:00|2010-01-01 08:26:00|     33979200|\n",
      "|     12637| 2011-01-27 09:40:00|2010-01-01 08:26:00|     33786840|\n",
      "|     15052| 2011-01-24 15:52:00|2010-01-01 08:26:00|     33549960|\n",
      "|     14525| 2011-01-31 18:49:00|2010-01-01 08:26:00|     34165380|\n",
      "|     18283| 2011-01-30 12:59:00|2010-01-01 08:26:00|     34057980|\n",
      "|     13107| 2011-01-26 14:52:00|2010-01-01 08:26:00|     33719160|\n",
      "|     16303| 2011-01-31 13:41:00|2010-01-01 08:26:00|     34146900|\n",
      "|     13174| 2011-01-27 15:36:00|2010-01-01 08:26:00|     33808200|\n",
      "|     13027| 2011-01-20 09:48:00|2010-01-01 08:26:00|     33182520|\n",
      "|     12957| 2011-01-30 09:53:00|2010-01-01 08:26:00|     34046820|\n",
      "|     17128| 2011-01-09 12:02:00|2010-01-01 08:26:00|     32240160|\n",
      "|     14439| 2011-01-24 11:39:00|2010-01-01 08:26:00|     33534780|\n",
      "+----------+--------------------+-------------------+-------------+\n",
      "only showing top 20 rows\n",
      "\n"
     ]
    }
   ],
   "source": [
    "df_recency = df_recency.withColumn('from_date', lit('2010-01-01 08:26:00'))\n",
    "df_recency = df_recency.withColumn('recency_score', unix_timestamp('most_recent_purchase')- unix_timestamp('from_date'))\n",
    "df_recency.show()"
   ]
  },
  {
   "cell_type": "code",
   "execution_count": 194,
   "id": "1b5695e4",
   "metadata": {},
   "outputs": [
    {
     "name": "stdout",
     "output_type": "stream",
     "text": [
      "+----------+------------------+\n",
      "|CustomerId|    monetary_value|\n",
      "+----------+------------------+\n",
      "|     16250|            389.44|\n",
      "|     15574| 702.2500000000002|\n",
      "|     15555| 4758.200000000001|\n",
      "|     15271|2485.8199999999997|\n",
      "|     17714|             153.0|\n",
      "|     17757| 5585.489999999999|\n",
      "|     17551|            306.84|\n",
      "|     13187|236.01999999999995|\n",
      "|     16549| 4154.640000000001|\n",
      "|     12637| 5953.250000000002|\n",
      "|     15052|            215.78|\n",
      "|     14525|           4221.37|\n",
      "|     18283|2094.8799999999997|\n",
      "|     13107|           1524.07|\n",
      "|     16303| 5305.830000000002|\n",
      "|     13174|2817.0300000000016|\n",
      "|     13027|            6912.0|\n",
      "|     12957|3979.0399999999995|\n",
      "|     17128|            157.09|\n",
      "|     14439|           2661.24|\n",
      "+----------+------------------+\n",
      "only showing top 20 rows\n",
      "\n"
     ]
    }
   ],
   "source": [
    "df = df.withColumn('total_spendings', col('Quantity') * col('UnitPrice'))\n",
    "df_money = df.groupBy('CustomerId').agg(sum('total_spendings').alias('monetary_value'))\n",
    "df_money.show()"
   ]
  },
  {
   "cell_type": "code",
   "execution_count": 198,
   "id": "ae802b71",
   "metadata": {},
   "outputs": [
    {
     "name": "stdout",
     "output_type": "stream",
     "text": [
      "+----------+---------+-------------+------------------+\n",
      "|CustomerId|frequency|recency_score|    monetary_value|\n",
      "+----------+---------+-------------+------------------+\n",
      "|     16250|       24|     33460860|            389.44|\n",
      "|     15574|      168|     32758500| 702.2500000000002|\n",
      "|     15555|      925|     33882600| 4758.200000000001|\n",
      "|     15271|      275|     34041060|2485.8199999999997|\n",
      "|     17714|       10|     33444360|             153.0|\n",
      "|     17757|      742|     34070520| 5585.489999999999|\n",
      "|     17551|       43|      1230360|            306.84|\n",
      "|     13187|       37|     32005860|236.01999999999995|\n",
      "|     16549|      981|     33979200| 4154.640000000001|\n",
      "|     12637|      394|     33786840| 5953.250000000002|\n",
      "+----------+---------+-------------+------------------+\n",
      "only showing top 10 rows\n",
      "\n"
     ]
    }
   ],
   "source": [
    "df_features = df_freq.join(df_recency, on='CustomerId',how='inner')\\\n",
    ".join(df_money, on='CustomerId', how='inner')\\\n",
    ".select(['CustomerId','frequency','recency_score','monetary_value'])\n",
    "df_features.show(10)"
   ]
  },
  {
   "cell_type": "code",
   "execution_count": 199,
   "id": "696d84fc",
   "metadata": {},
   "outputs": [],
   "source": [
    "from pyspark.ml.feature import VectorAssembler\n",
    "from pyspark.ml.feature import StandardScaler"
   ]
  },
  {
   "cell_type": "code",
   "execution_count": 203,
   "id": "a356367b",
   "metadata": {},
   "outputs": [
    {
     "name": "stdout",
     "output_type": "stream",
     "text": [
      "+----------+---------+-------------+------------------+--------------------+\n",
      "|CustomerId|frequency|recency_score|    monetary_value|            features|\n",
      "+----------+---------+-------------+------------------+--------------------+\n",
      "|     16250|       24|     33460860|            389.44|[3.346086E7,24.0,...|\n",
      "|     15574|      168|     32758500| 702.2500000000002|[3.27585E7,168.0,...|\n",
      "|     15555|      925|     33882600| 4758.200000000001|[3.38826E7,925.0,...|\n",
      "|     15271|      275|     34041060|2485.8199999999997|[3.404106E7,275.0...|\n",
      "|     17714|       10|     33444360|             153.0|[3.344436E7,10.0,...|\n",
      "+----------+---------+-------------+------------------+--------------------+\n",
      "only showing top 5 rows\n",
      "\n"
     ]
    }
   ],
   "source": [
    "assemble=VectorAssembler(inputCols=['recency_score','frequency','monetary_value'], outputCol='features')\n",
    "assembled_data=assemble.transform(df_features)\n",
    "assembled_data.show(5)"
   ]
  },
  {
   "cell_type": "code",
   "execution_count": 206,
   "id": "99898ff3",
   "metadata": {},
   "outputs": [
    {
     "name": "stdout",
     "output_type": "stream",
     "text": [
      "+--------------------+\n",
      "|        standardized|\n",
      "+--------------------+\n",
      "|[6.03878491885398...|\n",
      "|[5.91202783683020...|\n",
      "|[6.11489764135058...|\n",
      "|[6.14349540776309...|\n",
      "|[6.03580711280951...|\n",
      "+--------------------+\n",
      "only showing top 5 rows\n",
      "\n"
     ]
    }
   ],
   "source": [
    "scaler = StandardScaler(inputCol='features',outputCol='standardized').fit(assembled_data)\n",
    "data_scaled = scaler.transform(assembled_data)\n",
    "data_scaled.select('standardized').show(5)"
   ]
  },
  {
   "cell_type": "code",
   "execution_count": 207,
   "id": "70af12da",
   "metadata": {},
   "outputs": [],
   "source": [
    "from pyspark.ml.clustering import KMeans\n",
    "from pyspark.ml.evaluation import ClusteringEvaluator\n",
    "import numpy as np"
   ]
  },
  {
   "cell_type": "code",
   "execution_count": 208,
   "id": "b1ce5167",
   "metadata": {},
   "outputs": [],
   "source": [
    "cost = np.zeros(10)\n",
    "\n",
    "evaluator = ClusteringEvaluator(predictionCol='prediction', featuresCol='standardized',metricName='silhouette', distanceMeasure='squaredEuclidean')\n",
    "\n",
    "for i in range(2,10):\n",
    "    kmeans_model = KMeans(featuresCol='standardized', k=i)\n",
    "    kmeans_model = kmeans_model.fit(data_scaled)\n",
    "    output = kmeans_model.transform(data_scaled)\n",
    "    cost[i] = kmeans_model.summary.trainingCost"
   ]
  },
  {
   "cell_type": "code",
   "execution_count": 217,
   "id": "82c646fe",
   "metadata": {},
   "outputs": [],
   "source": [
    "import matplotlib.pyplot as plt\n",
    "import seaborn as sns\n",
    "import pandas as pd"
   ]
  },
  {
   "cell_type": "code",
   "execution_count": 211,
   "id": "5b133a0b",
   "metadata": {},
   "outputs": [
    {
     "data": {
      "text/plain": [
       "[<matplotlib.lines.Line2D at 0x2b02f50e160>]"
      ]
     },
     "execution_count": 211,
     "metadata": {},
     "output_type": "execute_result"
    },
    {
     "data": {
      "image/png": "[encoded data removed]",
      "text/plain": [
       "<Figure size 432x288 with 1 Axes>"
      ]
     },
     "metadata": {
      "needs_background": "light"
     },
     "output_type": "display_data"
    }
   ],
   "source": [
    "plt.plot(cost)"
   ]
  },
  {
   "cell_type": "code",
   "execution_count": 214,
   "id": "6e680b64",
   "metadata": {},
   "outputs": [],
   "source": [
    "kmeans_model = KMeans(featuresCol='standardized', k=4)\n",
    "kmeans_model = kmeans_model.fit(data_scaled)"
   ]
  },
  {
   "cell_type": "code",
   "execution_count": 215,
   "id": "ec4dece3",
   "metadata": {},
   "outputs": [
    {
     "name": "stdout",
     "output_type": "stream",
     "text": [
      "+----------+---------+-------------+------------------+--------------------+--------------------+----------+\n",
      "|CustomerId|frequency|recency_score|    monetary_value|            features|        standardized|prediction|\n",
      "+----------+---------+-------------+------------------+--------------------+--------------------+----------+\n",
      "|     16250|       24|     33460860|            389.44|[3.346086E7,24.0,...|[6.03878491885398...|         0|\n",
      "|     15574|      168|     32758500| 702.2500000000002|[3.27585E7,168.0,...|[5.91202783683020...|         0|\n",
      "|     15555|      925|     33882600| 4758.200000000001|[3.38826E7,925.0,...|[6.11489764135058...|         0|\n",
      "|     15271|      275|     34041060|2485.8199999999997|[3.404106E7,275.0...|[6.14349540776309...|         0|\n",
      "|     17714|       10|     33444360|             153.0|[3.344436E7,10.0,...|[6.03580711280951...|         0|\n",
      "|     17757|      742|     34070520| 5585.489999999999|[3.407052E7,742.0...|[6.14881214510066...|         0|\n",
      "|     17551|       43|      1230360|            306.84|[1230360.0,43.0,3...|[0.22204687544675...|         3|\n",
      "|     13187|       37|     32005860|236.01999999999995|[3.200586E7,37.0,...|[5.77619656766000...|         0|\n",
      "|     16549|      981|     33979200| 4154.640000000001|[3.39792E7,981.0,...|[6.13233134219274...|         0|\n",
      "|     12637|      394|     33786840| 5953.250000000002|[3.378684E7,394.0...|[6.09761553790705...|         0|\n",
      "+----------+---------+-------------+------------------+--------------------+--------------------+----------+\n",
      "only showing top 10 rows\n",
      "\n"
     ]
    }
   ],
   "source": [
    "preds = kmeans_model.transform(data_scaled)\n",
    "\n",
    "preds.show(10)"
   ]
  },
  {
   "cell_type": "code",
   "execution_count": 219,
   "id": "b3a08852",
   "metadata": {},
   "outputs": [
    {
     "data": {
      "image/png": "[encoded data removed]",
      "text/plain": [
       "<Figure size 432x288 with 1 Axes>"
      ]
     },
     "metadata": {
      "needs_background": "light"
     },
     "output_type": "display_data"
    },
    {
     "data": {
      "image/png": "[encoded data removed]",
      "text/plain": [
       "<Figure size 432x288 with 1 Axes>"
      ]
     },
     "metadata": {
      "needs_background": "light"
     },
     "output_type": "display_data"
    },
    {
     "data": {
      "image/png": "[encoded data removed]",
      "text/plain": [
       "<Figure size 432x288 with 1 Axes>"
      ]
     },
     "metadata": {
      "needs_background": "light"
     },
     "output_type": "display_data"
    }
   ],
   "source": [
    "df_res = preds.select('recency_score','frequency','monetary_value','prediction')\n",
    "df_res = df_res.toPandas()\n",
    "avg_df = df_res.groupby(['prediction'], as_index=False).mean()\n",
    "\n",
    "list1 = ['recency_score','frequency','monetary_value']\n",
    "\n",
    "for i in list1:\n",
    "    sns.barplot(x='prediction',y=str(i),data=avg_df)\n",
    "    plt.show()"
   ]
  },
  {
   "cell_type": "code",
   "execution_count": null,
   "id": "24b4305f",
   "metadata": {},
   "outputs": [],
   "source": []
  }
 ],
 "metadata": {
  "kernelspec": {
   "display_name": "Python 3",
   "language": "python",
   "name": "python3"
  },
  "language_info": {
   "codemirror_mode": {
    "name": "ipython",
    "version": 3
   },
   "file_extension": ".py",
   "mimetype": "text/x-python",
   "name": "python",
   "nbconvert_exporter": "python",
   "pygments_lexer": "ipython3",
   "version": "3.8.8"
  }
 },
 "nbformat": 4,
 "nbformat_minor": 5
}
